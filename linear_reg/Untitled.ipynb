{
 "cells": [
  {
   "cell_type": "code",
   "execution_count": 6,
   "id": "f3febb52",
   "metadata": {},
   "outputs": [],
   "source": [
    "import pandas as pd\n",
    "import numpy as np\n",
    "\n",
    "import pymc3 as pm\n",
    "import theano.tensor as tt\n",
    "import arviz as az\n",
    "\n",
    "import torch\n",
    "from torch.autograd.functional import hessian\n",
    "\n",
    "from sklearn.preprocessing import MinMaxScaler\n",
    "from sklearn.decomposition import PCA\n",
    "\n",
    "import matplotlib.pyplot as plt\n",
    "import seaborn as sns\n",
    "from tqdm import tqdm\n",
    "\n",
    "np.random.seed(42)"
   ]
  },
  {
   "cell_type": "code",
   "execution_count": 2,
   "id": "d08b1d6d",
   "metadata": {},
   "outputs": [
    {
     "data": {
      "text/html": [
       "<div>\n",
       "<style scoped>\n",
       "    .dataframe tbody tr th:only-of-type {\n",
       "        vertical-align: middle;\n",
       "    }\n",
       "\n",
       "    .dataframe tbody tr th {\n",
       "        vertical-align: top;\n",
       "    }\n",
       "\n",
       "    .dataframe thead th {\n",
       "        text-align: right;\n",
       "    }\n",
       "</style>\n",
       "<table border=\"1\" class=\"dataframe\">\n",
       "  <thead>\n",
       "    <tr style=\"text-align: right;\">\n",
       "      <th></th>\n",
       "      <th>fixed acidity</th>\n",
       "      <th>volatile acidity</th>\n",
       "      <th>citric acid</th>\n",
       "      <th>residual sugar</th>\n",
       "      <th>chlorides</th>\n",
       "      <th>free sulfur dioxide</th>\n",
       "      <th>total sulfur dioxide</th>\n",
       "      <th>density</th>\n",
       "      <th>pH</th>\n",
       "      <th>sulphates</th>\n",
       "      <th>alcohol</th>\n",
       "      <th>quality</th>\n",
       "    </tr>\n",
       "  </thead>\n",
       "  <tbody>\n",
       "    <tr>\n",
       "      <th>0</th>\n",
       "      <td>-0.528194</td>\n",
       "      <td>0.961576</td>\n",
       "      <td>-1.391037</td>\n",
       "      <td>-0.453077</td>\n",
       "      <td>-0.243630</td>\n",
       "      <td>-0.466047</td>\n",
       "      <td>-0.379014</td>\n",
       "      <td>0.558100</td>\n",
       "      <td>1.288240</td>\n",
       "      <td>-0.579025</td>\n",
       "      <td>-0.959946</td>\n",
       "      <td>-0.787576</td>\n",
       "    </tr>\n",
       "    <tr>\n",
       "      <th>1</th>\n",
       "      <td>-0.298454</td>\n",
       "      <td>1.966827</td>\n",
       "      <td>-1.391037</td>\n",
       "      <td>0.043403</td>\n",
       "      <td>0.223805</td>\n",
       "      <td>0.872365</td>\n",
       "      <td>0.624168</td>\n",
       "      <td>0.028252</td>\n",
       "      <td>-0.719708</td>\n",
       "      <td>0.128910</td>\n",
       "      <td>-0.584594</td>\n",
       "      <td>-0.787576</td>\n",
       "    </tr>\n",
       "    <tr>\n",
       "      <th>2</th>\n",
       "      <td>-0.298454</td>\n",
       "      <td>1.296660</td>\n",
       "      <td>-1.185699</td>\n",
       "      <td>-0.169374</td>\n",
       "      <td>0.096323</td>\n",
       "      <td>-0.083643</td>\n",
       "      <td>0.228975</td>\n",
       "      <td>0.134222</td>\n",
       "      <td>-0.331073</td>\n",
       "      <td>-0.048074</td>\n",
       "      <td>-0.584594</td>\n",
       "      <td>-0.787576</td>\n",
       "    </tr>\n",
       "    <tr>\n",
       "      <th>3</th>\n",
       "      <td>1.654339</td>\n",
       "      <td>-1.384011</td>\n",
       "      <td>1.483689</td>\n",
       "      <td>-0.453077</td>\n",
       "      <td>-0.264878</td>\n",
       "      <td>0.107558</td>\n",
       "      <td>0.411372</td>\n",
       "      <td>0.664069</td>\n",
       "      <td>-0.978798</td>\n",
       "      <td>-0.461036</td>\n",
       "      <td>-0.584594</td>\n",
       "      <td>0.450707</td>\n",
       "    </tr>\n",
       "    <tr>\n",
       "      <th>4</th>\n",
       "      <td>-0.528194</td>\n",
       "      <td>0.961576</td>\n",
       "      <td>-1.391037</td>\n",
       "      <td>-0.453077</td>\n",
       "      <td>-0.243630</td>\n",
       "      <td>-0.466047</td>\n",
       "      <td>-0.379014</td>\n",
       "      <td>0.558100</td>\n",
       "      <td>1.288240</td>\n",
       "      <td>-0.579025</td>\n",
       "      <td>-0.959946</td>\n",
       "      <td>-0.787576</td>\n",
       "    </tr>\n",
       "  </tbody>\n",
       "</table>\n",
       "</div>"
      ],
      "text/plain": [
       "   fixed acidity  volatile acidity  citric acid  residual sugar  chlorides  \\\n",
       "0      -0.528194          0.961576    -1.391037       -0.453077  -0.243630   \n",
       "1      -0.298454          1.966827    -1.391037        0.043403   0.223805   \n",
       "2      -0.298454          1.296660    -1.185699       -0.169374   0.096323   \n",
       "3       1.654339         -1.384011     1.483689       -0.453077  -0.264878   \n",
       "4      -0.528194          0.961576    -1.391037       -0.453077  -0.243630   \n",
       "\n",
       "   free sulfur dioxide  total sulfur dioxide   density        pH  sulphates  \\\n",
       "0            -0.466047             -0.379014  0.558100  1.288240  -0.579025   \n",
       "1             0.872365              0.624168  0.028252 -0.719708   0.128910   \n",
       "2            -0.083643              0.228975  0.134222 -0.331073  -0.048074   \n",
       "3             0.107558              0.411372  0.664069 -0.978798  -0.461036   \n",
       "4            -0.466047             -0.379014  0.558100  1.288240  -0.579025   \n",
       "\n",
       "    alcohol   quality  \n",
       "0 -0.959946 -0.787576  \n",
       "1 -0.584594 -0.787576  \n",
       "2 -0.584594 -0.787576  \n",
       "3 -0.584594  0.450707  \n",
       "4 -0.959946 -0.787576  "
      ]
     },
     "execution_count": 2,
     "metadata": {},
     "output_type": "execute_result"
    }
   ],
   "source": [
    "data = pd.read_csv('../data/winequality-red.csv')\n",
    "data = (data-data.mean())/data.std()\n",
    "data.head()"
   ]
  },
  {
   "cell_type": "code",
   "execution_count": 9,
   "id": "bfa95299",
   "metadata": {},
   "outputs": [
    {
     "data": {
      "text/html": [
       "<div>\n",
       "<style scoped>\n",
       "    .dataframe tbody tr th:only-of-type {\n",
       "        vertical-align: middle;\n",
       "    }\n",
       "\n",
       "    .dataframe tbody tr th {\n",
       "        vertical-align: top;\n",
       "    }\n",
       "\n",
       "    .dataframe thead th {\n",
       "        text-align: right;\n",
       "    }\n",
       "</style>\n",
       "<table border=\"1\" class=\"dataframe\">\n",
       "  <thead>\n",
       "    <tr style=\"text-align: right;\">\n",
       "      <th></th>\n",
       "      <th>fixed acidity</th>\n",
       "      <th>volatile acidity</th>\n",
       "      <th>citric acid</th>\n",
       "      <th>residual sugar</th>\n",
       "      <th>chlorides</th>\n",
       "      <th>free sulfur dioxide</th>\n",
       "      <th>total sulfur dioxide</th>\n",
       "      <th>density</th>\n",
       "      <th>pH</th>\n",
       "      <th>sulphates</th>\n",
       "      <th>alcohol</th>\n",
       "      <th>quality</th>\n",
       "    </tr>\n",
       "  </thead>\n",
       "  <tbody>\n",
       "    <tr>\n",
       "      <th>fixed acidity</th>\n",
       "      <td>1.000000</td>\n",
       "      <td>-0.256131</td>\n",
       "      <td>0.671703</td>\n",
       "      <td>0.114777</td>\n",
       "      <td>0.093705</td>\n",
       "      <td>-0.153794</td>\n",
       "      <td>-0.113181</td>\n",
       "      <td>0.668047</td>\n",
       "      <td>-0.682978</td>\n",
       "      <td>0.183006</td>\n",
       "      <td>-0.061668</td>\n",
       "      <td>0.124052</td>\n",
       "    </tr>\n",
       "    <tr>\n",
       "      <th>volatile acidity</th>\n",
       "      <td>-0.256131</td>\n",
       "      <td>1.000000</td>\n",
       "      <td>-0.552496</td>\n",
       "      <td>0.001918</td>\n",
       "      <td>0.061298</td>\n",
       "      <td>-0.010504</td>\n",
       "      <td>0.076470</td>\n",
       "      <td>0.022026</td>\n",
       "      <td>0.234937</td>\n",
       "      <td>-0.260987</td>\n",
       "      <td>-0.202288</td>\n",
       "      <td>-0.390558</td>\n",
       "    </tr>\n",
       "    <tr>\n",
       "      <th>citric acid</th>\n",
       "      <td>0.671703</td>\n",
       "      <td>-0.552496</td>\n",
       "      <td>1.000000</td>\n",
       "      <td>0.143577</td>\n",
       "      <td>0.203823</td>\n",
       "      <td>-0.060978</td>\n",
       "      <td>0.035533</td>\n",
       "      <td>0.364947</td>\n",
       "      <td>-0.541904</td>\n",
       "      <td>0.312770</td>\n",
       "      <td>0.109903</td>\n",
       "      <td>0.226373</td>\n",
       "    </tr>\n",
       "    <tr>\n",
       "      <th>residual sugar</th>\n",
       "      <td>0.114777</td>\n",
       "      <td>0.001918</td>\n",
       "      <td>0.143577</td>\n",
       "      <td>1.000000</td>\n",
       "      <td>0.055610</td>\n",
       "      <td>0.187049</td>\n",
       "      <td>0.203028</td>\n",
       "      <td>0.355283</td>\n",
       "      <td>-0.085652</td>\n",
       "      <td>0.005527</td>\n",
       "      <td>0.042075</td>\n",
       "      <td>0.013732</td>\n",
       "    </tr>\n",
       "    <tr>\n",
       "      <th>chlorides</th>\n",
       "      <td>0.093705</td>\n",
       "      <td>0.061298</td>\n",
       "      <td>0.203823</td>\n",
       "      <td>0.055610</td>\n",
       "      <td>1.000000</td>\n",
       "      <td>0.005562</td>\n",
       "      <td>0.047400</td>\n",
       "      <td>0.200632</td>\n",
       "      <td>-0.265026</td>\n",
       "      <td>0.371260</td>\n",
       "      <td>-0.221141</td>\n",
       "      <td>-0.128907</td>\n",
       "    </tr>\n",
       "    <tr>\n",
       "      <th>free sulfur dioxide</th>\n",
       "      <td>-0.153794</td>\n",
       "      <td>-0.010504</td>\n",
       "      <td>-0.060978</td>\n",
       "      <td>0.187049</td>\n",
       "      <td>0.005562</td>\n",
       "      <td>1.000000</td>\n",
       "      <td>0.667666</td>\n",
       "      <td>-0.021946</td>\n",
       "      <td>0.070377</td>\n",
       "      <td>0.051658</td>\n",
       "      <td>-0.069408</td>\n",
       "      <td>-0.050656</td>\n",
       "    </tr>\n",
       "    <tr>\n",
       "      <th>total sulfur dioxide</th>\n",
       "      <td>-0.113181</td>\n",
       "      <td>0.076470</td>\n",
       "      <td>0.035533</td>\n",
       "      <td>0.203028</td>\n",
       "      <td>0.047400</td>\n",
       "      <td>0.667666</td>\n",
       "      <td>1.000000</td>\n",
       "      <td>0.071269</td>\n",
       "      <td>-0.066495</td>\n",
       "      <td>0.042947</td>\n",
       "      <td>-0.205654</td>\n",
       "      <td>-0.185100</td>\n",
       "    </tr>\n",
       "    <tr>\n",
       "      <th>density</th>\n",
       "      <td>0.668047</td>\n",
       "      <td>0.022026</td>\n",
       "      <td>0.364947</td>\n",
       "      <td>0.355283</td>\n",
       "      <td>0.200632</td>\n",
       "      <td>-0.021946</td>\n",
       "      <td>0.071269</td>\n",
       "      <td>1.000000</td>\n",
       "      <td>-0.341699</td>\n",
       "      <td>0.148506</td>\n",
       "      <td>-0.496180</td>\n",
       "      <td>-0.174919</td>\n",
       "    </tr>\n",
       "    <tr>\n",
       "      <th>pH</th>\n",
       "      <td>-0.682978</td>\n",
       "      <td>0.234937</td>\n",
       "      <td>-0.541904</td>\n",
       "      <td>-0.085652</td>\n",
       "      <td>-0.265026</td>\n",
       "      <td>0.070377</td>\n",
       "      <td>-0.066495</td>\n",
       "      <td>-0.341699</td>\n",
       "      <td>1.000000</td>\n",
       "      <td>-0.196648</td>\n",
       "      <td>0.205633</td>\n",
       "      <td>-0.057731</td>\n",
       "    </tr>\n",
       "    <tr>\n",
       "      <th>sulphates</th>\n",
       "      <td>0.183006</td>\n",
       "      <td>-0.260987</td>\n",
       "      <td>0.312770</td>\n",
       "      <td>0.005527</td>\n",
       "      <td>0.371260</td>\n",
       "      <td>0.051658</td>\n",
       "      <td>0.042947</td>\n",
       "      <td>0.148506</td>\n",
       "      <td>-0.196648</td>\n",
       "      <td>1.000000</td>\n",
       "      <td>0.093595</td>\n",
       "      <td>0.251397</td>\n",
       "    </tr>\n",
       "    <tr>\n",
       "      <th>alcohol</th>\n",
       "      <td>-0.061668</td>\n",
       "      <td>-0.202288</td>\n",
       "      <td>0.109903</td>\n",
       "      <td>0.042075</td>\n",
       "      <td>-0.221141</td>\n",
       "      <td>-0.069408</td>\n",
       "      <td>-0.205654</td>\n",
       "      <td>-0.496180</td>\n",
       "      <td>0.205633</td>\n",
       "      <td>0.093595</td>\n",
       "      <td>1.000000</td>\n",
       "      <td>0.476166</td>\n",
       "    </tr>\n",
       "    <tr>\n",
       "      <th>quality</th>\n",
       "      <td>0.124052</td>\n",
       "      <td>-0.390558</td>\n",
       "      <td>0.226373</td>\n",
       "      <td>0.013732</td>\n",
       "      <td>-0.128907</td>\n",
       "      <td>-0.050656</td>\n",
       "      <td>-0.185100</td>\n",
       "      <td>-0.174919</td>\n",
       "      <td>-0.057731</td>\n",
       "      <td>0.251397</td>\n",
       "      <td>0.476166</td>\n",
       "      <td>1.000000</td>\n",
       "    </tr>\n",
       "  </tbody>\n",
       "</table>\n",
       "</div>"
      ],
      "text/plain": [
       "                      fixed acidity  volatile acidity  citric acid  \\\n",
       "fixed acidity              1.000000         -0.256131     0.671703   \n",
       "volatile acidity          -0.256131          1.000000    -0.552496   \n",
       "citric acid                0.671703         -0.552496     1.000000   \n",
       "residual sugar             0.114777          0.001918     0.143577   \n",
       "chlorides                  0.093705          0.061298     0.203823   \n",
       "free sulfur dioxide       -0.153794         -0.010504    -0.060978   \n",
       "total sulfur dioxide      -0.113181          0.076470     0.035533   \n",
       "density                    0.668047          0.022026     0.364947   \n",
       "pH                        -0.682978          0.234937    -0.541904   \n",
       "sulphates                  0.183006         -0.260987     0.312770   \n",
       "alcohol                   -0.061668         -0.202288     0.109903   \n",
       "quality                    0.124052         -0.390558     0.226373   \n",
       "\n",
       "                      residual sugar  chlorides  free sulfur dioxide  \\\n",
       "fixed acidity               0.114777   0.093705            -0.153794   \n",
       "volatile acidity            0.001918   0.061298            -0.010504   \n",
       "citric acid                 0.143577   0.203823            -0.060978   \n",
       "residual sugar              1.000000   0.055610             0.187049   \n",
       "chlorides                   0.055610   1.000000             0.005562   \n",
       "free sulfur dioxide         0.187049   0.005562             1.000000   \n",
       "total sulfur dioxide        0.203028   0.047400             0.667666   \n",
       "density                     0.355283   0.200632            -0.021946   \n",
       "pH                         -0.085652  -0.265026             0.070377   \n",
       "sulphates                   0.005527   0.371260             0.051658   \n",
       "alcohol                     0.042075  -0.221141            -0.069408   \n",
       "quality                     0.013732  -0.128907            -0.050656   \n",
       "\n",
       "                      total sulfur dioxide   density        pH  sulphates  \\\n",
       "fixed acidity                    -0.113181  0.668047 -0.682978   0.183006   \n",
       "volatile acidity                  0.076470  0.022026  0.234937  -0.260987   \n",
       "citric acid                       0.035533  0.364947 -0.541904   0.312770   \n",
       "residual sugar                    0.203028  0.355283 -0.085652   0.005527   \n",
       "chlorides                         0.047400  0.200632 -0.265026   0.371260   \n",
       "free sulfur dioxide               0.667666 -0.021946  0.070377   0.051658   \n",
       "total sulfur dioxide              1.000000  0.071269 -0.066495   0.042947   \n",
       "density                           0.071269  1.000000 -0.341699   0.148506   \n",
       "pH                               -0.066495 -0.341699  1.000000  -0.196648   \n",
       "sulphates                         0.042947  0.148506 -0.196648   1.000000   \n",
       "alcohol                          -0.205654 -0.496180  0.205633   0.093595   \n",
       "quality                          -0.185100 -0.174919 -0.057731   0.251397   \n",
       "\n",
       "                       alcohol   quality  \n",
       "fixed acidity        -0.061668  0.124052  \n",
       "volatile acidity     -0.202288 -0.390558  \n",
       "citric acid           0.109903  0.226373  \n",
       "residual sugar        0.042075  0.013732  \n",
       "chlorides            -0.221141 -0.128907  \n",
       "free sulfur dioxide  -0.069408 -0.050656  \n",
       "total sulfur dioxide -0.205654 -0.185100  \n",
       "density              -0.496180 -0.174919  \n",
       "pH                    0.205633 -0.057731  \n",
       "sulphates             0.093595  0.251397  \n",
       "alcohol               1.000000  0.476166  \n",
       "quality               0.476166  1.000000  "
      ]
     },
     "execution_count": 9,
     "metadata": {},
     "output_type": "execute_result"
    }
   ],
   "source": [
    "data.cov()"
   ]
  },
  {
   "cell_type": "markdown",
   "id": "be238382",
   "metadata": {},
   "source": [
    "## Linear Regression bayesian"
   ]
  },
  {
   "cell_type": "markdown",
   "id": "68bb96a3",
   "metadata": {},
   "source": [
    "On prends les variables 'volatile acidity', 'alcohol', 'citric acid', 'density', 'sulphates' qui vont prédire 'quality'"
   ]
  },
  {
   "cell_type": "code",
   "execution_count": 161,
   "id": "875b69fe",
   "metadata": {},
   "outputs": [],
   "source": [
    "D = 5\n",
    "X, y = data[['volatile acidity', 'alcohol', 'citric acid', 'density', 'sulphates']].values, data['quality'].values"
   ]
  },
  {
   "cell_type": "markdown",
   "id": "19263339",
   "metadata": {},
   "source": [
    "On considère $y \\sim \\mathcal{N}(\\alpha + \\beta_0 X_{volatile\\_acidity} + \\beta_1 X_{alcohol} +..., \\sigma^2)$, avec $\\alpha, \\beta_0, \\beta_1 \\sim \\mathcal{N}(0, 1)$, et $\\theta=(\\alpha, \\beta_0, \\beta_1, \\log(\\sigma))$"
   ]
  },
  {
   "cell_type": "code",
   "execution_count": 14,
   "id": "d530d644",
   "metadata": {},
   "outputs": [],
   "source": [
    "def get_mcmc_sample(X, y, size=5):\n",
    "    prior_location = 0\n",
    "    prior_scale = 1\n",
    "    with pm.Model() as model:\n",
    "\n",
    "        alpha = pm.Normal('alpha', mu=prior_location, sigma=prior_scale)\n",
    "        \n",
    "        beta = pm.Normal('beta',  mu=prior_location, sigma=prior_scale, shape=size)\n",
    "        \n",
    "        log_sigma = pm.Normal('log_sigma', mu=prior_location, sigma=prior_scale)\n",
    "        \n",
    "        mu = alpha + pm.math.dot(X, beta)\n",
    "        \n",
    "        likelihood = pm.Normal('likelihood', mu=mu, sigma=np.exp(log_sigma), observed=y)\n",
    "        trace = pm.sample(2000)\n",
    "    return trace"
   ]
  },
  {
   "cell_type": "code",
   "execution_count": 15,
   "id": "4a723141",
   "metadata": {},
   "outputs": [
    {
     "name": "stderr",
     "output_type": "stream",
     "text": [
      "/var/folders/wv/2vmcq8g50l78y2b9nbkxtnw00000gn/T/ipykernel_42718/2956012462.py:15: FutureWarning: In v4.0, pm.sample will return an `arviz.InferenceData` object instead of a `MultiTrace` by default. You can pass return_inferencedata=True or return_inferencedata=False to be safe and silence this warning.\n",
      "  trace = pm.sample(2000)\n",
      "Auto-assigning NUTS sampler...\n",
      "Initializing NUTS using jitter+adapt_diag...\n",
      "Multiprocess sampling (4 chains in 4 jobs)\n",
      "NUTS: [log_sigma, beta, alpha]\n"
     ]
    },
    {
     "data": {
      "text/html": [
       "\n",
       "<style>\n",
       "    /* Turns off some styling */\n",
       "    progress {\n",
       "        /* gets rid of default border in Firefox and Opera. */\n",
       "        border: none;\n",
       "        /* Needs to be in here for Safari polyfill so background images work as expected. */\n",
       "        background-size: auto;\n",
       "    }\n",
       "    .progress-bar-interrupted, .progress-bar-interrupted::-webkit-progress-bar {\n",
       "        background: #F44336;\n",
       "    }\n",
       "</style>\n"
      ],
      "text/plain": [
       "<IPython.core.display.HTML object>"
      ]
     },
     "metadata": {},
     "output_type": "display_data"
    },
    {
     "data": {
      "text/html": [
       "\n",
       "    <div>\n",
       "      <progress value='12000' class='' max='12000' style='width:300px; height:20px; vertical-align: middle;'></progress>\n",
       "      100.00% [12000/12000 00:05<00:00 Sampling 4 chains, 0 divergences]\n",
       "    </div>\n",
       "    "
      ],
      "text/plain": [
       "<IPython.core.display.HTML object>"
      ]
     },
     "metadata": {},
     "output_type": "display_data"
    },
    {
     "name": "stderr",
     "output_type": "stream",
     "text": [
      "Sampling 4 chains for 1_000 tune and 2_000 draw iterations (4_000 + 8_000 draws total) took 20 seconds.\n"
     ]
    }
   ],
   "source": [
    "trace = get_mcmc_sample(X, y)\n",
    "theta = np.column_stack([trace.alpha, trace.log_sigma, trace.beta])"
   ]
  },
  {
   "cell_type": "code",
   "execution_count": 200,
   "id": "96ee1d8b",
   "metadata": {},
   "outputs": [
    {
     "data": {
      "image/png": "[encoded data removed]",
      "text/plain": [
       "<Figure size 432x288 with 1 Axes>"
      ]
     },
     "metadata": {
      "needs_background": "light"
     },
     "output_type": "display_data"
    }
   ],
   "source": [
    "pca = PCA()\n",
    "pca.fit(theta)\n",
    "theta_pca = pca.transform(theta)\n",
    "plt.scatter(theta_pca[:, 0], theta_pca[:, -1], alpha=0.5, marker='+')\n",
    "plt.xlabel('First axis PCA')\n",
    "plt.ylabel('Last axis PCA')\n",
    "plt.show()"
   ]
  },
  {
   "cell_type": "markdown",
   "id": "9910eac9",
   "metadata": {},
   "source": [
    "## SGD pas constant"
   ]
  },
  {
   "cell_type": "markdown",
   "id": "2de38e4f",
   "metadata": {},
   "source": [
    "On calcul les gradients suivant $\\alpha, \\beta, \\log(\\sigma)$, la loss étant:\n",
    "\n",
    "$-\\log(p(y|\\theta)) + \\frac{1}{N}\\log(p(\\theta)) = -\\log(\\mathcal{N}(\\alpha + \\beta X, e^{2*\\log(\\sigma)}) + \\frac{1}{N}(\\log(\\mathcal{N}(0, 1)) + \\log(\\mathcal{N}(0, \\mathbf{I})) + \\log(\\mathcal{N}(0, 1)))$ \n",
    "\n",
    "\n",
    "Avec: $p(\\theta) = p(\\alpha)p(\\beta)p(\\log \\sigma)$"
   ]
  },
  {
   "cell_type": "code",
   "execution_count": 180,
   "id": "1d5ae6dd",
   "metadata": {},
   "outputs": [],
   "source": [
    "def grad_loss_torch(theta, x_, y_, N):\n",
    "\n",
    "    θ = torch.tensor(theta, requires_grad=True)\n",
    "    \n",
    "    x_, y_, cst = torch.tensor(x_, requires_grad=False), torch.tensor(y_, requires_grad=False), torch.tensor(np.log(2*np.pi), requires_grad=False)\n",
    "    \n",
    "    f1 = 0.5*torch.exp(-2*θ[1]) * (θ[0] + torch.dot(θ[2:], x_)  - y_)**2 + θ[1] + 0.5*cst\n",
    "    f2 = (-1/(2*N))*(θ[0]**2 +  θ[1]**2 + torch.dot(θ[2:], θ[2:]) + θ.shape[0]*cst)\n",
    "    \n",
    "    z = f1 + f2\n",
    "    \n",
    "    z.backward()\n",
    "    grad = θ.grad.numpy()\n",
    "    \n",
    "    return z.item(), grad"
   ]
  },
  {
   "cell_type": "code",
   "execution_count": 185,
   "id": "a745cdd4",
   "metadata": {},
   "outputs": [],
   "source": [
    "def sgd(X, y, lr, max_iter=1000):\n",
    "    N = len(y)\n",
    "    size = X.shape[1] + 2\n",
    "    theta_sg = np.random.normal(size=(max_iter, size))\n",
    "    \n",
    "    grad_list, loss_list = [], []\n",
    "    \n",
    "    for k in tqdm(range(1, max_iter)):\n",
    "        \n",
    "        theta = theta_sg[k-1]\n",
    "        S = np.random.randint(N, size=np.random.randint(1, N+1), dtype=int)\n",
    "        \n",
    "        tmp_grad = np.zeros(size)\n",
    "        tmp_loss = 0\n",
    "        \n",
    "        for index in S:\n",
    "            x_, y_ = X[index], y[index]\n",
    "            loss, grad = grad_loss_torch(theta, x_, y_, N)\n",
    "            \n",
    "            tmp_grad += grad\n",
    "            tmp_loss += loss\n",
    "        grad_list.append(np.linalg.norm(tmp_grad)/len(S))\n",
    "        loss_list.append(tmp_loss/len(S))\n",
    "        theta_sg[k] = theta - lr*tmp_grad\n",
    "        \n",
    "    return theta_sg, grad_list, loss_list"
   ]
  },
  {
   "cell_type": "markdown",
   "id": "39c01970",
   "metadata": {},
   "source": [
    "On a $\\frac{\\epsilon^*}{S} = \\frac{2D}{NTr(BB^T)}$, ici on a $D=4$ et on prend $BB^T=I_D$, la mise à jour de la SGD est donc:\n",
    "\n",
    "$$ \\theta(t+1) = \\theta(t) - \\frac{\\epsilon^*}{S} \\sum \\limits_{i \\in \\mathcal{S}}-\\log(p(y_i|\\theta(t))) + \\frac{1}{N}\\log(p(\\theta(t)))$$"
   ]
  },
  {
   "cell_type": "code",
   "execution_count": 186,
   "id": "14a0bd1e",
   "metadata": {},
   "outputs": [
    {
     "name": "stderr",
     "output_type": "stream",
     "text": [
      "100%|███████████████████████████████████████| 1999/1999 [07:05<00:00,  4.70it/s]\n"
     ]
    }
   ],
   "source": [
    "B = np.eye(D)\n",
    "tr = np.trace(B@B.T)\n",
    "lr = (2*D)/(len(y)*tr)\n",
    "max_iter = 2000\n",
    "theta_sgd, grad, loss = sgd(X, y, lr, max_iter)"
   ]
  },
  {
   "cell_type": "code",
   "execution_count": 201,
   "id": "29ed8c2d",
   "metadata": {},
   "outputs": [],
   "source": [
    "theta_pca_sgd = pca.transform(theta_sgd)"
   ]
  },
  {
   "cell_type": "code",
   "execution_count": 202,
   "id": "5d416b48",
   "metadata": {},
   "outputs": [
    {
     "data": {
      "image/png": "[encoded data removed]",
      "text/plain": [
       "<Figure size 720x576 with 1 Axes>"
      ]
     },
     "metadata": {
      "needs_background": "light"
     },
     "output_type": "display_data"
    }
   ],
   "source": [
    "plt.figure(figsize=(10, 8))\n",
    "plt.scatter(theta_pca_sgd[:, -1], theta_pca_sgd[:, 0], alpha=0.5, marker='+', label='SGD')\n",
    "plt.scatter(theta_pca[:, -1], theta_pca[:, 0], alpha=0.5, marker='+', label='Normal reg')\n",
    "#plt.margins(x=0.1, y=0.001)\n",
    "plt.xlabel('Last axis PCA')\n",
    "plt.ylabel('First axis PCA')\n",
    "plt.legend(loc='best')\n",
    "plt.show()"
   ]
  },
  {
   "cell_type": "markdown",
   "id": "7f147e28",
   "metadata": {},
   "source": [
    "## Covariance"
   ]
  },
  {
   "cell_type": "code",
   "execution_count": 194,
   "id": "73e09cb3",
   "metadata": {},
   "outputs": [],
   "source": [
    "theta_mean = torch.tensor(theta_sgd[:1000].mean(axis=0), requires_grad=True) # On prends après convergence"
   ]
  },
  {
   "cell_type": "code",
   "execution_count": 63,
   "id": "908f7173",
   "metadata": {},
   "outputs": [],
   "source": [
    "def _loss_torch(θ, x_, y_, N):\n",
    "    \n",
    "    x_, y_, cst = torch.tensor(x_, requires_grad=False), torch.tensor(y_, requires_grad=False), torch.tensor(np.log(2*np.pi), requires_grad=False)\n",
    "    \n",
    "    f1 = 0.5*torch.exp(-2*θ[-1]) * (torch.dot(θ[1:-1], x_) + θ[0] - y_)**2 + θ[-1] + 0.5*cst\n",
    "    f2 = (-1/(2*N))*(θ[0]**2 + torch.dot(θ[1:-1], θ[1:-1]) + θ[-1]**2 + 4*cst)\n",
    "    \n",
    "    z = f1 + f2\n",
    "    \n",
    "    return z\n",
    "\n",
    "def _loss(θ, X, y):\n",
    "    N = len(y)\n",
    "    loss = 0\n",
    "    for k in range(N):\n",
    "        loss += _loss_torch(θ, X[0], y[0], N)\n",
    "    return loss / N\n",
    "loss = lambda θ : _loss(θ, X, y)"
   ]
  },
  {
   "cell_type": "code",
   "execution_count": 73,
   "id": "9f379b75",
   "metadata": {},
   "outputs": [],
   "source": [
    "hessian = hessian(loss, theta_mean).numpy()"
   ]
  },
  {
   "cell_type": "markdown",
   "id": "814c4aaf",
   "metadata": {},
   "source": [
    "Analytiquement on a $\\Sigma = -\\frac{\\epsilon^*}{2S} \\int \\limits_{0}^{\\infty} e^{A\\tau}d\\tau =\\frac{\\epsilon^*}{2S}A^{-1}$ étant donné que A est symétrique inversible.\n",
    "numériquement on a $\\frac{lr}{2} = \\frac{\\epsilon^*}{2S}$"
   ]
  },
  {
   "cell_type": "code",
   "execution_count": 78,
   "id": "f4669f24",
   "metadata": {},
   "outputs": [],
   "source": [
    "Σ = (lr/2)*np.linalg.inv(hessian)"
   ]
  },
  {
   "cell_type": "code",
   "execution_count": 89,
   "id": "a9dfcf87",
   "metadata": {},
   "outputs": [
    {
     "data": {
      "image/png": "[encoded data removed]",
      "text/plain": [
       "<Figure size 1440x504 with 4 Axes>"
      ]
     },
     "metadata": {
      "needs_background": "light"
     },
     "output_type": "display_data"
    }
   ],
   "source": [
    "import seaborn as sns\n",
    "plt.figure(figsize=(20,7))\n",
    "plt.subplot(1,2,1)\n",
    "sns.heatmap(np.abs(np.cov(theta_sgd.T)))\n",
    "plt.title('Empirique')\n",
    "plt.subplot(1,2,2)\n",
    "sns.heatmap(np.abs(Σ))\n",
    "plt.title('Analytique')\n",
    "plt.show()"
   ]
  }
 ],
 "metadata": {
  "kernelspec": {
   "display_name": "torch",
   "language": "python",
   "name": "torch"
  },
  "language_info": {
   "codemirror_mode": {
    "name": "ipython",
    "version": 3
   },
   "file_extension": ".py",
   "mimetype": "text/x-python",
   "name": "python",
   "nbconvert_exporter": "python",
   "pygments_lexer": "ipython3",
   "version": "3.9.7"
  }
 },
 "nbformat": 4,
 "nbformat_minor": 5
}
