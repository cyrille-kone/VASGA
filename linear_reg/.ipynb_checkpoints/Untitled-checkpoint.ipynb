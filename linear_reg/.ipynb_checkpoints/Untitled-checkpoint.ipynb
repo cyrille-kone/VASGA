{
 "cells": [
  {
   "cell_type": "code",
   "execution_count": 8,
   "id": "f3febb52",
   "metadata": {},
   "outputs": [],
   "source": [
    "import pandas as pd\n",
    "import pymc3 as pm\n",
    "import theano.tensor as tt\n",
    "import numpy as np\n",
    "import arviz as az\n",
    "from sklearn.preprocessing import MinMaxScaler\n",
    "from tqdm import tqdm\n",
    "from sklearn.decomposition import PCA\n",
    "import matplotlib.pyplot as plt"
   ]
  },
  {
   "cell_type": "code",
   "execution_count": 2,
   "id": "d08b1d6d",
   "metadata": {},
   "outputs": [
    {
     "data": {
      "text/html": [
       "<div>\n",
       "<style scoped>\n",
       "    .dataframe tbody tr th:only-of-type {\n",
       "        vertical-align: middle;\n",
       "    }\n",
       "\n",
       "    .dataframe tbody tr th {\n",
       "        vertical-align: top;\n",
       "    }\n",
       "\n",
       "    .dataframe thead th {\n",
       "        text-align: right;\n",
       "    }\n",
       "</style>\n",
       "<table border=\"1\" class=\"dataframe\">\n",
       "  <thead>\n",
       "    <tr style=\"text-align: right;\">\n",
       "      <th></th>\n",
       "      <th>fixed acidity</th>\n",
       "      <th>volatile acidity</th>\n",
       "      <th>citric acid</th>\n",
       "      <th>residual sugar</th>\n",
       "      <th>chlorides</th>\n",
       "      <th>free sulfur dioxide</th>\n",
       "      <th>total sulfur dioxide</th>\n",
       "      <th>density</th>\n",
       "      <th>pH</th>\n",
       "      <th>sulphates</th>\n",
       "      <th>alcohol</th>\n",
       "      <th>quality</th>\n",
       "    </tr>\n",
       "  </thead>\n",
       "  <tbody>\n",
       "    <tr>\n",
       "      <th>0</th>\n",
       "      <td>-0.528194</td>\n",
       "      <td>0.961576</td>\n",
       "      <td>-1.391037</td>\n",
       "      <td>-0.453077</td>\n",
       "      <td>-0.243630</td>\n",
       "      <td>-0.466047</td>\n",
       "      <td>-0.379014</td>\n",
       "      <td>0.558100</td>\n",
       "      <td>1.288240</td>\n",
       "      <td>-0.579025</td>\n",
       "      <td>-0.959946</td>\n",
       "      <td>-0.787576</td>\n",
       "    </tr>\n",
       "    <tr>\n",
       "      <th>1</th>\n",
       "      <td>-0.298454</td>\n",
       "      <td>1.966827</td>\n",
       "      <td>-1.391037</td>\n",
       "      <td>0.043403</td>\n",
       "      <td>0.223805</td>\n",
       "      <td>0.872365</td>\n",
       "      <td>0.624168</td>\n",
       "      <td>0.028252</td>\n",
       "      <td>-0.719708</td>\n",
       "      <td>0.128910</td>\n",
       "      <td>-0.584594</td>\n",
       "      <td>-0.787576</td>\n",
       "    </tr>\n",
       "    <tr>\n",
       "      <th>2</th>\n",
       "      <td>-0.298454</td>\n",
       "      <td>1.296660</td>\n",
       "      <td>-1.185699</td>\n",
       "      <td>-0.169374</td>\n",
       "      <td>0.096323</td>\n",
       "      <td>-0.083643</td>\n",
       "      <td>0.228975</td>\n",
       "      <td>0.134222</td>\n",
       "      <td>-0.331073</td>\n",
       "      <td>-0.048074</td>\n",
       "      <td>-0.584594</td>\n",
       "      <td>-0.787576</td>\n",
       "    </tr>\n",
       "    <tr>\n",
       "      <th>3</th>\n",
       "      <td>1.654339</td>\n",
       "      <td>-1.384011</td>\n",
       "      <td>1.483689</td>\n",
       "      <td>-0.453077</td>\n",
       "      <td>-0.264878</td>\n",
       "      <td>0.107558</td>\n",
       "      <td>0.411372</td>\n",
       "      <td>0.664069</td>\n",
       "      <td>-0.978798</td>\n",
       "      <td>-0.461036</td>\n",
       "      <td>-0.584594</td>\n",
       "      <td>0.450707</td>\n",
       "    </tr>\n",
       "    <tr>\n",
       "      <th>4</th>\n",
       "      <td>-0.528194</td>\n",
       "      <td>0.961576</td>\n",
       "      <td>-1.391037</td>\n",
       "      <td>-0.453077</td>\n",
       "      <td>-0.243630</td>\n",
       "      <td>-0.466047</td>\n",
       "      <td>-0.379014</td>\n",
       "      <td>0.558100</td>\n",
       "      <td>1.288240</td>\n",
       "      <td>-0.579025</td>\n",
       "      <td>-0.959946</td>\n",
       "      <td>-0.787576</td>\n",
       "    </tr>\n",
       "  </tbody>\n",
       "</table>\n",
       "</div>"
      ],
      "text/plain": [
       "   fixed acidity  volatile acidity  citric acid  residual sugar  chlorides  \\\n",
       "0      -0.528194          0.961576    -1.391037       -0.453077  -0.243630   \n",
       "1      -0.298454          1.966827    -1.391037        0.043403   0.223805   \n",
       "2      -0.298454          1.296660    -1.185699       -0.169374   0.096323   \n",
       "3       1.654339         -1.384011     1.483689       -0.453077  -0.264878   \n",
       "4      -0.528194          0.961576    -1.391037       -0.453077  -0.243630   \n",
       "\n",
       "   free sulfur dioxide  total sulfur dioxide   density        pH  sulphates  \\\n",
       "0            -0.466047             -0.379014  0.558100  1.288240  -0.579025   \n",
       "1             0.872365              0.624168  0.028252 -0.719708   0.128910   \n",
       "2            -0.083643              0.228975  0.134222 -0.331073  -0.048074   \n",
       "3             0.107558              0.411372  0.664069 -0.978798  -0.461036   \n",
       "4            -0.466047             -0.379014  0.558100  1.288240  -0.579025   \n",
       "\n",
       "    alcohol   quality  \n",
       "0 -0.959946 -0.787576  \n",
       "1 -0.584594 -0.787576  \n",
       "2 -0.584594 -0.787576  \n",
       "3 -0.584594  0.450707  \n",
       "4 -0.959946 -0.787576  "
      ]
     },
     "execution_count": 2,
     "metadata": {},
     "output_type": "execute_result"
    }
   ],
   "source": [
    "data = pd.read_csv('../data/winequality-red.csv')\n",
    "data = (data-data.mean())/data.std()\n",
    "data.head()"
   ]
  },
  {
   "cell_type": "markdown",
   "id": "be238382",
   "metadata": {},
   "source": [
    "## Linear Regression bayesian"
   ]
  },
  {
   "cell_type": "markdown",
   "id": "68bb96a3",
   "metadata": {},
   "source": [
    "On prends les variables 'volatile acidity', 'alcohol' qui vont prédire 'quality'"
   ]
  },
  {
   "cell_type": "code",
   "execution_count": 3,
   "id": "875b69fe",
   "metadata": {},
   "outputs": [],
   "source": [
    "X, y = data[['volatile acidity', 'alcohol']].values, data['quality'].values"
   ]
  },
  {
   "cell_type": "markdown",
   "id": "19263339",
   "metadata": {},
   "source": [
    "On considère $y \\sim \\mathcal{N}(\\alpha + \\beta_0 X_{volatile\\_acidity} + \\beta_1 X_{alcohol}, \\sigma^2)$, avec $\\alpha, \\beta_0, \\beta_1 \\sim \\mathcal{N}(0, 1)$, et $\\theta=(\\alpha, \\beta_0, \\beta_1, \\log(\\sigma))$"
   ]
  },
  {
   "cell_type": "code",
   "execution_count": 4,
   "id": "d530d644",
   "metadata": {},
   "outputs": [],
   "source": [
    "def get_mcmc_sample(X, y):\n",
    "    prior_location = 0\n",
    "    prior_scale = 1\n",
    "    with pm.Model() as model:\n",
    "\n",
    "        alpha = pm.Normal('alpha', mu=prior_location, sigma=prior_scale)\n",
    "        \n",
    "        beta = pm.Normal('beta',  mu=prior_location, sigma=prior_scale, shape=2)\n",
    "        \n",
    "        log_sigma = pm.Normal('log_sigma', mu=prior_location, sigma=prior_scale)\n",
    "        \n",
    "        mu = alpha + pm.math.dot(X, beta)\n",
    "        \n",
    "        likelihood = pm.Normal('likelihood', mu=mu, sigma=np.exp(log_sigma), observed=y)\n",
    "        trace = pm.sample(2000)\n",
    "    return trace"
   ]
  },
  {
   "cell_type": "code",
   "execution_count": 5,
   "id": "4a723141",
   "metadata": {},
   "outputs": [
    {
     "name": "stderr",
     "output_type": "stream",
     "text": [
      "/var/folders/wv/2vmcq8g50l78y2b9nbkxtnw00000gn/T/ipykernel_10474/3000697574.py:15: FutureWarning: In v4.0, pm.sample will return an `arviz.InferenceData` object instead of a `MultiTrace` by default. You can pass return_inferencedata=True or return_inferencedata=False to be safe and silence this warning.\n",
      "  trace = pm.sample(2000)\n",
      "Auto-assigning NUTS sampler...\n",
      "Initializing NUTS using jitter+adapt_diag...\n",
      "Multiprocess sampling (4 chains in 4 jobs)\n",
      "NUTS: [log_sigma, beta, alpha]\n",
      "WARNING (theano.tensor.blas): Using NumPy C-API based implementation for BLAS functions.\n",
      "WARNING (theano.tensor.blas): Using NumPy C-API based implementation for BLAS functions.\n",
      "WARNING (theano.tensor.blas): Using NumPy C-API based implementation for BLAS functions.\n",
      "WARNING (theano.tensor.blas): Using NumPy C-API based implementation for BLAS functions.\n"
     ]
    },
    {
     "data": {
      "text/html": [
       "\n",
       "<style>\n",
       "    /* Turns off some styling */\n",
       "    progress {\n",
       "        /* gets rid of default border in Firefox and Opera. */\n",
       "        border: none;\n",
       "        /* Needs to be in here for Safari polyfill so background images work as expected. */\n",
       "        background-size: auto;\n",
       "    }\n",
       "    .progress-bar-interrupted, .progress-bar-interrupted::-webkit-progress-bar {\n",
       "        background: #F44336;\n",
       "    }\n",
       "</style>\n"
      ],
      "text/plain": [
       "<IPython.core.display.HTML object>"
      ]
     },
     "metadata": {},
     "output_type": "display_data"
    },
    {
     "data": {
      "text/html": [
       "\n",
       "    <div>\n",
       "      <progress value='12000' class='' max='12000' style='width:300px; height:20px; vertical-align: middle;'></progress>\n",
       "      100.00% [12000/12000 00:18<00:00 Sampling 4 chains, 0 divergences]\n",
       "    </div>\n",
       "    "
      ],
      "text/plain": [
       "<IPython.core.display.HTML object>"
      ]
     },
     "metadata": {},
     "output_type": "display_data"
    },
    {
     "name": "stderr",
     "output_type": "stream",
     "text": [
      "Sampling 4 chains for 1_000 tune and 2_000 draw iterations (4_000 + 8_000 draws total) took 38 seconds.\n"
     ]
    }
   ],
   "source": [
    "trace = get_mcmc_sample(X, y)"
   ]
  },
  {
   "cell_type": "code",
   "execution_count": 6,
   "id": "fad9b069",
   "metadata": {},
   "outputs": [],
   "source": [
    "theta = np.vstack([trace.alpha, trace.beta[:,0], trace.beta[:,1], trace.log_sigma])\n",
    "theta = np.swapaxes(theta, 0, 1)"
   ]
  },
  {
   "cell_type": "code",
   "execution_count": 9,
   "id": "96ee1d8b",
   "metadata": {},
   "outputs": [
    {
     "data": {
      "image/png": "[encoded data removed]",
      "text/plain": [
       "<Figure size 432x288 with 1 Axes>"
      ]
     },
     "metadata": {
      "needs_background": "light"
     },
     "output_type": "display_data"
    }
   ],
   "source": [
    "pca = PCA()\n",
    "theta_pca = pca.fit_transform(theta)\n",
    "plt.scatter(theta_pca[:, 0], theta_pca[:, -1], alpha=0.5, marker='+')\n",
    "plt.xlabel('First axis PCA')\n",
    "plt.ylabel('Last axis PCA')\n",
    "plt.show()"
   ]
  },
  {
   "cell_type": "markdown",
   "id": "9910eac9",
   "metadata": {},
   "source": [
    "## SGD pas constant"
   ]
  },
  {
   "cell_type": "markdown",
   "id": "2de38e4f",
   "metadata": {},
   "source": [
    "On calcul les gradients suivant $\\alpha, \\beta, \\log(\\sigma)$, la loss étant:\n",
    "\n",
    "$-\\log(p(y|\\theta)) + \\frac{1}{N}\\log(p(\\theta)) = -\\log(\\mathcal{N}(\\alpha + \\beta_0 X_{volatile\\_acidity} + \\beta_1 X_{alcohol}, e^{2*\\log(\\sigma)}) + \\frac{1}{N}(\\log(\\mathcal{N}(0, 1)) + \\log(\\mathcal{N}(0, 1)) + \\log(\\mathcal{N}(0, 1)))$ \n",
    "\n",
    "\n",
    "Avec: $p(\\theta) = p(\\alpha)p(\\beta)p(\\sigma)$"
   ]
  },
  {
   "cell_type": "code",
   "execution_count": 10,
   "id": "baa1658e",
   "metadata": {},
   "outputs": [],
   "source": [
    "def grad_loss(alpha, beta, log_sigma, x, y, N):\n",
    "    \n",
    "    g_alpha = np.exp(-2*log_sigma)*(np.dot(beta, x) + alpha - y) - alpha/N\n",
    "    \n",
    "    g_beta = np.exp(-2*log_sigma)*np.dot(x, np.dot(beta, x) + alpha - y) - beta/N\n",
    "    \n",
    "    g_log_sigma = -np.exp(-2*log_sigma)*(np.dot(beta,x) + alpha - y)**2 - log_sigma/N\n",
    "    \n",
    "    return g_alpha, g_beta, g_log_sigma"
   ]
  },
  {
   "cell_type": "code",
   "execution_count": 25,
   "id": "a745cdd4",
   "metadata": {},
   "outputs": [],
   "source": [
    "def sgd(lr, X, y, max_iter=1000):\n",
    "    N = len(y)\n",
    "    theta_sg = np.zeros((max_iter, 4))\n",
    "    theta_sg[0] = np.random.normal(size=4)\n",
    "    for k in tqdm(range(1, max_iter)):\n",
    "        \n",
    "        alpha, beta, log_sigma = theta_sg[k-1, 0], theta_sg[k-1, 1:3], theta_sg[k-1, -1]\n",
    "        S = np.random.randint(N, size=np.random.randint(1, N+1), dtype=int)\n",
    "        \n",
    "        tmp_alpha, tmp_g_beta, tmp_g_log_sigma = 0, 0, 0\n",
    "        \n",
    "        for index in S:\n",
    "            x_, y_ = X[index], y[index]\n",
    "            g_alpha, g_beta, g_log_sigma = grad_loss(alpha, beta, log_sigma, x_, y_, N)\n",
    "            \n",
    "            tmp_alpha += g_alpha\n",
    "            tmp_g_beta += g_beta\n",
    "            tmp_g_log_sigma += g_log_sigma\n",
    "            \n",
    "        theta_sg[k, 0] = alpha - lr*tmp_alpha\n",
    "        theta_sg[k, 1:3] = beta - lr*tmp_g_beta\n",
    "        theta_sg[k, -1] = log_sigma - lr*tmp_g_log_sigma\n",
    "        \n",
    "    return theta_sg"
   ]
  },
  {
   "cell_type": "markdown",
   "id": "39c01970",
   "metadata": {},
   "source": [
    "On a $\\frac{\\epsilon^*}{S} = \\frac{2D}{NTr(BB^T)}$, ici on a $D=4$ et on prend $BB^T=I_D$, la mise à jour de la SGD est donc:\n",
    "\n",
    "$$ \\theta(t+1) = \\theta(t) - \\frac{\\epsilon^*}{S} \\sum \\limits_{i \\in \\mathcal{S}}-\\log(p(y_i|\\theta(t))) + \\frac{1}{N}\\log(p(\\theta(t)))$$"
   ]
  },
  {
   "cell_type": "code",
   "execution_count": 18,
   "id": "14a0bd1e",
   "metadata": {},
   "outputs": [
    {
     "name": "stderr",
     "output_type": "stream",
     "text": [
      "100%|████████████████████████████████████████████████████████████████████████████████████| 1999/1999 [00:33<00:00, 59.98it/s]\n"
     ]
    }
   ],
   "source": [
    "lr = (2*4)/(4*len(y))\n",
    "max_iter=2000\n",
    "theta_sgd = sgd(lr, X, y, max_iter)"
   ]
  },
  {
   "cell_type": "code",
   "execution_count": 26,
   "id": "80a466bd",
   "metadata": {},
   "outputs": [],
   "source": [
    "pca = PCA()\n",
    "theta_pca_sgd = pca.fit_transform(theta_sgd)"
   ]
  },
  {
   "cell_type": "code",
   "execution_count": 27,
   "id": "5d416b48",
   "metadata": {},
   "outputs": [
    {
     "data": {
      "image/png": "[encoded data removed]",
      "text/plain": [
       "<Figure size 432x288 with 1 Axes>"
      ]
     },
     "metadata": {
      "needs_background": "light"
     },
     "output_type": "display_data"
    }
   ],
   "source": [
    "plt.scatter(theta_pca_sgd[:, 0], theta_pca_sgd[:, -1], alpha=0.5, marker='+')\n",
    "plt.scatter(theta_pca[:, 0], theta_pca[:, -1], alpha=0.5, marker='+')\n",
    "plt.margins(x=0.1, y=0.001)\n",
    "plt.xlabel('First axis PCA')\n",
    "plt.ylabel('Last axis PCA')\n",
    "plt.show()"
   ]
  }
 ],
 "metadata": {
  "kernelspec": {
   "display_name": "kernels",
   "language": "python",
   "name": "kernels"
  },
  "language_info": {
   "codemirror_mode": {
    "name": "ipython",
    "version": 3
   },
   "file_extension": ".py",
   "mimetype": "text/x-python",
   "name": "python",
   "nbconvert_exporter": "python",
   "pygments_lexer": "ipython3",
   "version": "3.10.0"
  }
 },
 "nbformat": 4,
 "nbformat_minor": 5
}
