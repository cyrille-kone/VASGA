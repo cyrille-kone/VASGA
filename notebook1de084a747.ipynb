{
 "metadata": {
  "kernelspec": {
   "language": "python",
   "display_name": "Python 3",
   "name": "python3"
  },
  "language_info": {
   "name": "python",
   "version": "3.7.12",
   "mimetype": "text/x-python",
   "codemirror_mode": {
    "name": "ipython",
    "version": 3
   },
   "pygments_lexer": "ipython3",
   "nbconvert_exporter": "python",
   "file_extension": ".py"
  }
 },
 "nbformat_minor": 4,
 "nbformat": 4,
 "cells": [
  {
   "cell_type": "markdown",
   "source": [
    "Draft"
   ],
   "metadata": {
    "collapsed": false,
    "pycharm": {
     "name": "#%% md\n"
    }
   }
  },
  {
   "cell_type": "code",
   "source": [
    "#!pip install torch==1.11\n",
    "import torch as th \n",
    "import torchvision\n",
    "import numpy as np \n",
    "from torch.autograd import Variable\n",
    "import matplotlib.pyplot as plt \n",
    "from torchvision import datasets, transforms\n",
    "DATA_DIR = \"./\"\n",
    "train_ds = torchvision.datasets.MNIST(DATA_DIR, download=True,train=True, transform=transforms.ToTensor())\n",
    "test_ds = torchvision.datasets.MNIST(DATA_DIR, download=True,train=False, transform=transforms.ToTensor())\n",
    "\n",
    "#preprocessing = transforms.Compose([transforms.ToTensor(),\n",
    "                                   #transforms.Normalize(ds_mean, ds_var**0.5)\n",
    "#                                   ])\n",
    "# \n",
    "#train_ds = torchvision.datasets.MNIST(DATA_DIR, download=True,train=True, transform=preprocessing)\n",
    "#test_ds = torchvision.datasets.MNIST(DATA_DIR, download=True,train=False, transform=preprocessing)\n",
    "\n",
    "\n",
    "#x_train = train_ds.data.view(-1, 784) / 255. \n",
    "#y_train = train_ds.targets + 1 \n",
    "#x_test = test_ds.data.view(-1, 784) / 255.\n",
    "#y_test = test_ds.targets  + 1 \n",
    "dim = 784 \n",
    "K = 10 \n",
    "D = dim*K + 1 # 1 for lambda \n",
    "\n",
    "from torch import linalg as LA\n",
    "device = th.device(\"cuda\" if th.cuda.is_available() else \"cpu\")\n",
    "#x_test = x_test.to(device)\n",
    "#y_test = y_test.to(device)\n",
    "#x_train = x_train.to(device)\n",
    "#y_train = y_train.to(device)\n",
    "S = 100\n",
    "bsz = 4096\n",
    "trainloader = th.utils.data.DataLoader(train_ds, batch_size=S, shuffle=True)\n",
    "testloader = th.utils.data.DataLoader(test_ds, batch_size=10000, shuffle=True)\n",
    "total_steps = len(trainloader)\n",
    "#llimit = 1 \n",
    "N = len(train_ds)\n",
    "# \n",
    "#mean = (train_ds.data / 255.).mean(0).view(-1).to(device)\n",
    "#scale = (train_ds.data/255.).std(0).view(-1).to(device) + 1e-7 "
   ],
   "metadata": {
    "id": "bxwj53kmCzcc",
    "execution": {
     "iopub.status.busy": "2022-03-15T13:23:30.811888Z",
     "iopub.execute_input": "2022-03-15T13:23:30.812140Z",
     "iopub.status.idle": "2022-03-15T13:23:34.206213Z",
     "shell.execute_reply.started": "2022-03-15T13:23:30.812056Z",
     "shell.execute_reply": "2022-03-15T13:23:34.205472Z"
    },
    "trusted": true
   },
   "execution_count": 1,
   "outputs": [
    {
     "name": "stdout",
     "text": "Downloading http://yann.lecun.com/exdb/mnist/train-images-idx3-ubyte.gz\nDownloading http://yann.lecun.com/exdb/mnist/train-images-idx3-ubyte.gz to ./MNIST/raw/train-images-idx3-ubyte.gz\n",
     "output_type": "stream"
    },
    {
     "output_type": "display_data",
     "data": {
      "text/plain": "  0%|          | 0/9912422 [00:00<?, ?it/s]",
      "application/vnd.jupyter.widget-view+json": {
       "version_major": 2,
       "version_minor": 0,
       "model_id": "50ef79c763554bc88a5f127f765a1d78"
      }
     },
     "metadata": {}
    },
    {
     "name": "stdout",
     "text": "Extracting ./MNIST/raw/train-images-idx3-ubyte.gz to ./MNIST/raw\n\nDownloading http://yann.lecun.com/exdb/mnist/train-labels-idx1-ubyte.gz\nDownloading http://yann.lecun.com/exdb/mnist/train-labels-idx1-ubyte.gz to ./MNIST/raw/train-labels-idx1-ubyte.gz\n",
     "output_type": "stream"
    },
    {
     "output_type": "display_data",
     "data": {
      "text/plain": "  0%|          | 0/28881 [00:00<?, ?it/s]",
      "application/vnd.jupyter.widget-view+json": {
       "version_major": 2,
       "version_minor": 0,
       "model_id": "0a48e8edd76a48ac82bc1b346b7ceb26"
      }
     },
     "metadata": {}
    },
    {
     "name": "stdout",
     "text": "Extracting ./MNIST/raw/train-labels-idx1-ubyte.gz to ./MNIST/raw\n\nDownloading http://yann.lecun.com/exdb/mnist/t10k-images-idx3-ubyte.gz\nDownloading http://yann.lecun.com/exdb/mnist/t10k-images-idx3-ubyte.gz to ./MNIST/raw/t10k-images-idx3-ubyte.gz\n",
     "output_type": "stream"
    },
    {
     "output_type": "display_data",
     "data": {
      "text/plain": "  0%|          | 0/1648877 [00:00<?, ?it/s]",
      "application/vnd.jupyter.widget-view+json": {
       "version_major": 2,
       "version_minor": 0,
       "model_id": "ce60d72499dc4bea800267bd0a9751e2"
      }
     },
     "metadata": {}
    },
    {
     "name": "stdout",
     "text": "Extracting ./MNIST/raw/t10k-images-idx3-ubyte.gz to ./MNIST/raw\n\nDownloading http://yann.lecun.com/exdb/mnist/t10k-labels-idx1-ubyte.gz\nDownloading http://yann.lecun.com/exdb/mnist/t10k-labels-idx1-ubyte.gz to ./MNIST/raw/t10k-labels-idx1-ubyte.gz\n",
     "output_type": "stream"
    },
    {
     "output_type": "display_data",
     "data": {
      "text/plain": "  0%|          | 0/4542 [00:00<?, ?it/s]",
      "application/vnd.jupyter.widget-view+json": {
       "version_major": 2,
       "version_minor": 0,
       "model_id": "36a39f42f1cc4afe92347399d44da60d"
      }
     },
     "metadata": {}
    },
    {
     "name": "stdout",
     "text": "Extracting ./MNIST/raw/t10k-labels-idx1-ubyte.gz to ./MNIST/raw\n\n",
     "output_type": "stream"
    },
    {
     "name": "stderr",
     "text": "/opt/conda/lib/python3.7/site-packages/torchvision/datasets/mnist.py:498: UserWarning: The given NumPy array is not writeable, and PyTorch does not support non-writeable tensors. This means you can write to the underlying (supposedly non-writeable) NumPy array using the tensor. You may want to copy the array to protect its data or make it writeable before converting it to a tensor. This type of warning will be suppressed for the rest of this program. (Triggered internally at  /usr/local/src/pytorch/torch/csrc/utils/tensor_numpy.cpp:174.)\n  return torch.from_numpy(parsed.astype(m[2], copy=False)).view(*s)\n",
     "output_type": "stream"
    }
   ]
  },
  {
   "cell_type": "code",
   "source": "def loss_(dim=784, K=10):\n  def loss(x, y, param):\n    theta, _ = th.split(param, [dim*K, 1])\n    theta = theta.view(dim, K)\n    lambd = th.tensor(1e-1)\n    return (lambd / 2)*th.sum(th.square(theta)) - dim*K*th.log(lambd)/2  +  (1)*(th.sum(th.logsumexp(x @ theta, 1)) -th.trace(x @ theta[:, y])) #+ dim*K*np.log(2*np.pi)/2\n    #th.sum(th.log(th.sum(th.exp(x @ theta), dim=-1))) - th.trace(x @ theta[:, y -1])\n  return loss",
   "metadata": {
    "id": "eDkXsS1GFAwf",
    "execution": {
     "iopub.status.busy": "2022-03-15T13:23:34.208111Z",
     "iopub.execute_input": "2022-03-15T13:23:34.208600Z",
     "iopub.status.idle": "2022-03-15T13:23:34.215790Z",
     "shell.execute_reply.started": "2022-03-15T13:23:34.208550Z",
     "shell.execute_reply": "2022-03-15T13:23:34.215036Z"
    },
    "trusted": true
   },
   "execution_count": 2,
   "outputs": []
  },
  {
   "cell_type": "code",
   "source": "criterion = loss_()\n@th.no_grad()\ndef validate(testloader, param):\n  total_loss = 0.\n  for (data, target) in testloader:\n        # putting data on device \n        data = data.to(device).view(-1, 784)\n        target = target.to(device).view(-1)\n        loss = criterion(data, target, param)\n        total_loss += loss.item()\n  return total_loss ",
   "metadata": {
    "id": "onTt8tKEapXd",
    "execution": {
     "iopub.status.busy": "2022-03-15T13:23:34.218133Z",
     "iopub.execute_input": "2022-03-15T13:23:34.218361Z",
     "iopub.status.idle": "2022-03-15T13:23:34.226881Z",
     "shell.execute_reply.started": "2022-03-15T13:23:34.218334Z",
     "shell.execute_reply": "2022-03-15T13:23:34.226138Z"
    },
    "trusted": true
   },
   "execution_count": 3,
   "outputs": []
  },
  {
   "cell_type": "code",
   "source": "w = th.empty((D,1), device=device)\nw = th.nn.init.xavier_uniform_(w)\nparam = Variable(w.view(-1), requires_grad=True)",
   "metadata": {
    "id": "V5I18VsHZ77q",
    "execution": {
     "iopub.status.busy": "2022-03-15T13:23:34.229911Z",
     "iopub.execute_input": "2022-03-15T13:23:34.230386Z",
     "iopub.status.idle": "2022-03-15T13:23:37.040676Z",
     "shell.execute_reply.started": "2022-03-15T13:23:34.230347Z",
     "shell.execute_reply": "2022-03-15T13:23:37.039907Z"
    },
    "trusted": true
   },
   "execution_count": 4,
   "outputs": []
  },
  {
   "cell_type": "code",
   "source": "losses = []\nval_losses = []\nepochs = 50\nlog_freq = 2 \nB = 3*th.eye(D)\nB[-1,-1] = 0 # lambda is fixed \nC = B@B.T\neps = 2*D*S / N / th.trace(C) # eq17\nH = 2*S/eps/N/C.diag() # eq19\nH = th.diag(H).to(device)\noptimizer  = th.optim.SGD([param], lr=eps)\neps",
   "metadata": {
    "id": "jDmwqs_Fa5Sm",
    "execution": {
     "iopub.status.busy": "2022-03-15T13:23:37.043149Z",
     "iopub.execute_input": "2022-03-15T13:23:37.043634Z",
     "iopub.status.idle": "2022-03-15T13:23:44.180323Z",
     "shell.execute_reply.started": "2022-03-15T13:23:37.043593Z",
     "shell.execute_reply": "2022-03-15T13:23:44.179641Z"
    },
    "trusted": true
   },
   "execution_count": 5,
   "outputs": [
    {
     "execution_count": 5,
     "output_type": "execute_result",
     "data": {
      "text/plain": "tensor(0.0004)"
     },
     "metadata": {}
    }
   ]
  },
  {
   "cell_type": "code",
   "source": "for e in range(epochs):\n  # compute loss \n  for i, (data, target) in enumerate(trainloader):\n        # putting data on device \n        data = data.to(device).view(-1, 784) #- mean \n        #data = data / scale\n        target = target.to(device).view(-1)\n        # making mini batch \n        idx = np.random.choice(data.size(0), S) #TODO cas mbsz >= data.size(0)\n        #theta.grad.data.zero_()\n        #loglambd.grad.data.zero_()\n        loss = criterion(data, target, param)\n        # back prop \n        optimizer.zero_grad()\n        loss.backward()\n        #print(theta.grad[0])\n        param = Variable(param.detach() - eps*H@param.grad.data, requires_grad=True) \n        #loglambd = loglambd.detach() - eps*loglambd.grad.data\n        #loglambd.requires_grad = True \n        #print(theta)\n        #optimizer.step()\n        if i% (total_steps//log_freq) ==0:\n          val_loss =  validate(testloader, param)\n          print(f\"Epoch:{e+1:3d}/{epochs} step {i+1:3d} / {total_steps} loss: {loss.item():9.2f} validation loss : #{val_loss:9.2f}\") \n          losses.append(loss.item())\n          val_losses.append(val_loss)",
   "metadata": {
    "id": "Nf8_qaC2jANO",
    "outputId": "bef11b92-4dd3-4397-9728-3053e56320c3",
    "execution": {
     "iopub.status.busy": "2022-03-15T13:23:44.181485Z",
     "iopub.execute_input": "2022-03-15T13:23:44.181734Z",
     "iopub.status.idle": "2022-03-15T13:29:14.656890Z",
     "shell.execute_reply.started": "2022-03-15T13:23:44.181700Z",
     "shell.execute_reply": "2022-03-15T13:29:14.656142Z"
    },
    "trusted": true
   },
   "execution_count": 6,
   "outputs": [
    {
     "name": "stdout",
     "text": "Epoch:  1/50 step   1 / 600 loss:   9262.89 validation loss : # 32211.04\nEpoch:  1/50 step 301 / 600 loss:   9074.18 validation loss : # 14724.20\nEpoch:  2/50 step   1 / 600 loss:   9084.22 validation loss : # 13618.96\nEpoch:  2/50 step 301 / 600 loss:   9071.90 validation loss : # 13209.97\nEpoch:  3/50 step   1 / 600 loss:   9056.76 validation loss : # 12936.23\nEpoch:  3/50 step 301 / 600 loss:   9067.03 validation loss : # 12772.36\nEpoch:  4/50 step   1 / 600 loss:   9067.64 validation loss : # 12658.82\nEpoch:  4/50 step 301 / 600 loss:   9060.62 validation loss : # 12571.23\nEpoch:  5/50 step   1 / 600 loss:   9058.38 validation loss : # 12504.63\nEpoch:  5/50 step 301 / 600 loss:   9056.61 validation loss : # 12439.89\nEpoch:  6/50 step   1 / 600 loss:   9063.49 validation loss : # 12406.59\nEpoch:  6/50 step 301 / 600 loss:   9081.76 validation loss : # 12364.24\nEpoch:  7/50 step   1 / 600 loss:   9053.18 validation loss : # 12327.36\nEpoch:  7/50 step 301 / 600 loss:   9058.46 validation loss : # 12296.34\nEpoch:  8/50 step   1 / 600 loss:   9092.14 validation loss : # 12265.62\nEpoch:  8/50 step 301 / 600 loss:   9061.15 validation loss : # 12249.91\nEpoch:  9/50 step   1 / 600 loss:   9063.71 validation loss : # 12224.48\nEpoch:  9/50 step 301 / 600 loss:   9062.40 validation loss : # 12217.59\nEpoch: 10/50 step   1 / 600 loss:   9065.28 validation loss : # 12194.86\nEpoch: 10/50 step 301 / 600 loss:   9063.64 validation loss : # 12186.39\nEpoch: 11/50 step   1 / 600 loss:   9059.83 validation loss : # 12168.29\nEpoch: 11/50 step 301 / 600 loss:   9075.43 validation loss : # 12156.22\nEpoch: 12/50 step   1 / 600 loss:   9067.16 validation loss : # 12139.31\nEpoch: 12/50 step 301 / 600 loss:   9062.42 validation loss : # 12136.14\nEpoch: 13/50 step   1 / 600 loss:   9058.94 validation loss : # 12126.67\nEpoch: 13/50 step 301 / 600 loss:   9053.86 validation loss : # 12117.75\nEpoch: 14/50 step   1 / 600 loss:   9057.58 validation loss : # 12108.17\nEpoch: 14/50 step 301 / 600 loss:   9047.89 validation loss : # 12095.91\nEpoch: 15/50 step   1 / 600 loss:   9072.00 validation loss : # 12087.28\nEpoch: 15/50 step 301 / 600 loss:   9069.96 validation loss : # 12083.18\nEpoch: 16/50 step   1 / 600 loss:   9052.47 validation loss : # 12077.35\nEpoch: 16/50 step 301 / 600 loss:   9065.40 validation loss : # 12065.44\nEpoch: 17/50 step   1 / 600 loss:   9057.92 validation loss : # 12069.12\nEpoch: 17/50 step 301 / 600 loss:   9062.53 validation loss : # 12063.98\nEpoch: 18/50 step   1 / 600 loss:   9059.29 validation loss : # 12057.43\nEpoch: 18/50 step 301 / 600 loss:   9063.67 validation loss : # 12053.86\nEpoch: 19/50 step   1 / 600 loss:   9057.74 validation loss : # 12048.63\nEpoch: 19/50 step 301 / 600 loss:   9060.39 validation loss : # 12048.40\nEpoch: 20/50 step   1 / 600 loss:   9058.17 validation loss : # 12048.26\nEpoch: 20/50 step 301 / 600 loss:   9060.31 validation loss : # 12046.69\nEpoch: 21/50 step   1 / 600 loss:   9057.83 validation loss : # 12024.75\nEpoch: 21/50 step 301 / 600 loss:   9053.75 validation loss : # 12033.03\nEpoch: 22/50 step   1 / 600 loss:   9056.55 validation loss : # 12023.99\nEpoch: 22/50 step 301 / 600 loss:   9063.67 validation loss : # 12019.50\nEpoch: 23/50 step   1 / 600 loss:   9065.33 validation loss : # 12016.83\nEpoch: 23/50 step 301 / 600 loss:   9058.88 validation loss : # 12024.29\nEpoch: 24/50 step   1 / 600 loss:   9065.09 validation loss : # 12023.31\nEpoch: 24/50 step 301 / 600 loss:   9055.12 validation loss : # 12010.86\nEpoch: 25/50 step   1 / 600 loss:   9058.24 validation loss : # 12004.79\nEpoch: 25/50 step 301 / 600 loss:   9058.97 validation loss : # 12002.30\nEpoch: 26/50 step   1 / 600 loss:   9059.33 validation loss : # 12004.16\nEpoch: 26/50 step 301 / 600 loss:   9058.27 validation loss : # 12011.14\nEpoch: 27/50 step   1 / 600 loss:   9060.35 validation loss : # 12001.79\nEpoch: 27/50 step 301 / 600 loss:   9051.18 validation loss : # 12004.45\nEpoch: 28/50 step   1 / 600 loss:   9050.29 validation loss : # 11998.15\nEpoch: 28/50 step 301 / 600 loss:   9055.97 validation loss : # 11994.16\nEpoch: 29/50 step   1 / 600 loss:   9059.24 validation loss : # 11991.80\nEpoch: 29/50 step 301 / 600 loss:   9053.17 validation loss : # 11982.54\nEpoch: 30/50 step   1 / 600 loss:   9069.40 validation loss : # 11990.22\nEpoch: 30/50 step 301 / 600 loss:   9066.31 validation loss : # 11999.51\nEpoch: 31/50 step   1 / 600 loss:   9055.26 validation loss : # 11989.46\nEpoch: 31/50 step 301 / 600 loss:   9051.54 validation loss : # 11979.67\nEpoch: 32/50 step   1 / 600 loss:   9067.60 validation loss : # 11979.83\nEpoch: 32/50 step 301 / 600 loss:   9055.33 validation loss : # 11978.29\nEpoch: 33/50 step   1 / 600 loss:   9053.96 validation loss : # 11981.24\nEpoch: 33/50 step 301 / 600 loss:   9057.10 validation loss : # 11973.98\nEpoch: 34/50 step   1 / 600 loss:   9061.48 validation loss : # 11980.82\nEpoch: 34/50 step 301 / 600 loss:   9059.64 validation loss : # 11971.84\nEpoch: 35/50 step   1 / 600 loss:   9057.57 validation loss : # 11979.44\nEpoch: 35/50 step 301 / 600 loss:   9055.49 validation loss : # 11987.64\nEpoch: 36/50 step   1 / 600 loss:   9052.57 validation loss : # 11974.96\nEpoch: 36/50 step 301 / 600 loss:   9054.40 validation loss : # 11977.18\nEpoch: 37/50 step   1 / 600 loss:   9055.69 validation loss : # 11969.25\nEpoch: 37/50 step 301 / 600 loss:   9065.65 validation loss : # 11965.06\nEpoch: 38/50 step   1 / 600 loss:   9053.59 validation loss : # 11972.19\nEpoch: 38/50 step 301 / 600 loss:   9065.46 validation loss : # 11965.51\nEpoch: 39/50 step   1 / 600 loss:   9068.96 validation loss : # 11968.83\nEpoch: 39/50 step 301 / 600 loss:   9055.40 validation loss : # 11974.90\nEpoch: 40/50 step   1 / 600 loss:   9055.43 validation loss : # 11968.35\nEpoch: 40/50 step 301 / 600 loss:   9059.93 validation loss : # 11965.67\nEpoch: 41/50 step   1 / 600 loss:   9052.58 validation loss : # 11967.12\nEpoch: 41/50 step 301 / 600 loss:   9055.87 validation loss : # 11967.15\nEpoch: 42/50 step   1 / 600 loss:   9064.53 validation loss : # 11959.11\nEpoch: 42/50 step 301 / 600 loss:   9062.99 validation loss : # 11962.39\nEpoch: 43/50 step   1 / 600 loss:   9068.34 validation loss : # 11966.05\nEpoch: 43/50 step 301 / 600 loss:   9055.90 validation loss : # 11959.88\nEpoch: 44/50 step   1 / 600 loss:   9051.87 validation loss : # 11963.05\nEpoch: 44/50 step 301 / 600 loss:   9054.44 validation loss : # 11963.82\nEpoch: 45/50 step   1 / 600 loss:   9054.70 validation loss : # 11961.65\nEpoch: 45/50 step 301 / 600 loss:   9073.62 validation loss : # 11961.10\nEpoch: 46/50 step   1 / 600 loss:   9065.77 validation loss : # 11956.04\nEpoch: 46/50 step 301 / 600 loss:   9078.69 validation loss : # 11965.14\nEpoch: 47/50 step   1 / 600 loss:   9062.51 validation loss : # 11952.66\nEpoch: 47/50 step 301 / 600 loss:   9063.54 validation loss : # 11947.98\nEpoch: 48/50 step   1 / 600 loss:   9049.79 validation loss : # 11954.23\nEpoch: 48/50 step 301 / 600 loss:   9048.89 validation loss : # 11955.62\nEpoch: 49/50 step   1 / 600 loss:   9048.35 validation loss : # 11956.71\nEpoch: 49/50 step 301 / 600 loss:   9058.75 validation loss : # 11951.48\nEpoch: 50/50 step   1 / 600 loss:   9058.15 validation loss : # 11952.87\nEpoch: 50/50 step 301 / 600 loss:   9066.52 validation loss : # 11955.60\n",
     "output_type": "stream"
    }
   ]
  },
  {
   "cell_type": "code",
   "source": "plt.semilogy(val_losses, label=\"val\")\nplt.semilogy(losses, label=\"train\")\nplt.legend()",
   "metadata": {
    "id": "UfHd9S7f4OhZ",
    "execution": {
     "iopub.status.busy": "2022-03-15T13:29:14.658030Z",
     "iopub.execute_input": "2022-03-15T13:29:14.658441Z",
     "iopub.status.idle": "2022-03-15T13:29:15.572570Z",
     "shell.execute_reply.started": "2022-03-15T13:29:14.658405Z",
     "shell.execute_reply": "2022-03-15T13:29:15.571905Z"
    },
    "trusted": true
   },
   "execution_count": 7,
   "outputs": [
    {
     "execution_count": 7,
     "output_type": "execute_result",
     "data": {
      "text/plain": "<matplotlib.legend.Legend at 0x7f826448c390>"
     },
     "metadata": {}
    },
    {
     "output_type": "display_data",
     "data": {
      "text/plain": "<Figure size 432x288 with 1 Axes>",
      "image/png": "[encoded data removed]"
     },
     "metadata": {
      "needs_background": "light"
     }
    }
   ]
  }
 ]
}